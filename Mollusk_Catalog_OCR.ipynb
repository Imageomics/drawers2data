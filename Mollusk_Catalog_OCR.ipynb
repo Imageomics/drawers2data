{
  "nbformat": 4,
  "nbformat_minor": 0,
  "metadata": {
    "colab": {
      "provenance": []
    },
    "kernelspec": {
      "name": "python3",
      "display_name": "Python 3"
    },
    "language_info": {
      "name": "python"
    }
  },
  "cells": [
    {
      "cell_type": "code",
      "source": [
        "!pip install easyocr\n",
        "!pip install cv2"
      ],
      "metadata": {
        "id": "D5JkOSLVZrfC"
      },
      "execution_count": null,
      "outputs": []
    },
    {
      "cell_type": "code",
      "source": [
        "import cv2\n",
        "import easyocr\n",
        "from google.colab.patches import cv2_imshow # necessary to display in Colab\n",
        "import pandas as pd"
      ],
      "metadata": {
        "id": "T3qNSE3faNVm"
      },
      "execution_count": 2,
      "outputs": []
    },
    {
      "cell_type": "code",
      "source": [
        "# select image\n",
        "image_one = 'file.jpg'\n",
        "\n",
        "# display image\n",
        "img_samp = cv2.imread(image_one, cv2.IMREAD_UNCHANGED)\n",
        "cv2_imshow(img_samp)\n",
        "\n",
        "# OCR image (all text)\n",
        "reader = easyocr.Reader(['en'])\n",
        "all_text = reader.readtext(image_one, detail = 0)\n",
        "all_text\n",
        "\n",
        "# OCR image (numbers only, try this if cat number doesn't display properly in all text)\n",
        "reader = easyocr.Reader(['en'])\n",
        "numbers = reader.readtext(image_one, detail = 0,\n",
        "                          allowlist ='0123456789') # constrains to numbers only\n",
        "numbers"
      ],
      "metadata": {
        "id": "9ln_4xUBcYkB"
      },
      "execution_count": null,
      "outputs": []
    },
    {
      "cell_type": "code",
      "source": [
        "# export OCR to CSV\n",
        "\n",
        "# create a dictionary\n",
        "dict = {'Catalog Data': all_text}\n",
        "\n",
        "# create a Pandas DataFrame from the dictionary\n",
        "df = pd.DataFrame(dict)\n",
        "\n",
        "# write the DataFrame to a CSV file\n",
        "df.to_csv('CatData.csv')\n"
      ],
      "metadata": {
        "id": "hR58AX_mmvKF"
      },
      "execution_count": null,
      "outputs": []
    }
  ]
}